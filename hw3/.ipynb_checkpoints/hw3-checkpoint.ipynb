{
 "cells": [
  {
   "cell_type": "code",
   "execution_count": 1,
   "metadata": {
    "collapsed": false
   },
   "outputs": [],
   "source": [
    "%matplotlib inline\n",
    "import pandas as pd\n",
    "import numpy as np\n",
    "import matplotlib.pyplot as plt\n",
    "import sklearn.cross_validation\n",
    "import sklearn.ensemble\n",
    "import sklearn.naive_bayes\n",
    "import sklearn.svm\n",
    "import sklearn.grid_search\n",
    "import sklearn.neighbors\n",
    "import sklearn.neural_network\n",
    "import sklearn.decomposition\n",
    "import scipy.stats as st\n"
   ]
  },
  {
   "cell_type": "markdown",
   "metadata": {},
   "source": [
    "# Homework 3"
   ]
  },
  {
   "cell_type": "code",
   "execution_count": 5,
   "metadata": {
    "collapsed": false
   },
   "outputs": [],
   "source": [
    "#read data from txt file\n",
    "two_attributes = pd.read_csv(\"pubfig_train_50000_pairs.txt\", sep = '\\t', header = None, skiprows = 1)\n",
    "y = two_attributes[0]\n",
    "del two_attributes[0]\n",
    "two_attributes = two_attributes.as_matrix()\n",
    "\n",
    "#mean center and feature scale\n",
    "X = two_attributes.copy()\n",
    "means = np.mean(X, axis = 0)\n",
    "X = X-means\n",
    "stds = np.std(X, axis = 0)\n",
    "X = X/stds\n"
   ]
  },
  {
   "cell_type": "code",
   "execution_count": 6,
   "metadata": {
    "collapsed": false
   },
   "outputs": [],
   "source": [
    "eval1 = pd.read_csv(\"pubfig_kaggle_1.txt\", sep = '\\t', header = None, skiprows = 2) \n",
    "eval1 = eval1.as_matrix()\n",
    "#mean center and feature scale\n",
    "eval1_X = eval1.copy()\n",
    "means = np.mean(eval1_X, axis = 0)\n",
    "eval1_X = eval1_X-means\n",
    "stds = np.std(eval1_X, axis = 0)\n",
    "eval1_X = eval1_X/stds\n",
    "\n",
    "eva12 = pd.read_csv(\"pubfig_kaggle_2.txt\", sep = '\\t', header = None, skiprows = 2) \n",
    "eval2 = eva12.as_matrix()\n",
    "#mean center and feature scale\n",
    "eval2_X = eva12.copy()\n",
    "means = np.mean(eval2_X, axis = 0)\n",
    "eval2_X = eval2_X-means\n",
    "stds = np.std(eval2_X, axis = 0)\n",
    "eval2_X = eval2_X/stds\n",
    "\n",
    "eval3 = pd.read_csv(\"pubfig_kaggle_3.txt\", sep = '\\t', header = None, skiprows = 2)\n",
    "eval3 = eval3.as_matrix()\n",
    "#mean center and feature scale\n",
    "eval3_X = eval3.copy()\n",
    "means = np.mean(eval3_X, axis = 0)\n",
    "eval3_X = eval3_X-means\n",
    "stds = np.std(eval3_X, axis = 0)\n",
    "eval3_X = eval3_X/stds"
   ]
  },
  {
   "cell_type": "code",
   "execution_count": 3,
   "metadata": {
    "collapsed": false
   },
   "outputs": [],
   "source": [
    "eval1_y = pd.read_csv(\"pubfig_kaggle_1_solution.txt\", header = None, sep = ',', skiprows = 1) \n",
    "del eval1_y[0]\n",
    "eval1_y = eval1_y.as_matrix().T[0]\n",
    "\n",
    "eval2_y = pd.read_csv(\"pubfig_kaggle_2_solution.txt\", header = None, sep = ',', skiprows = 1) \n",
    "del eval2_y[0]\n",
    "eval2_y = eval2_y.as_matrix().T[0]\n",
    "\n",
    "eval3_y = pd.read_csv(\"pubfig_kaggle_3_solution.txt\", header = None, sep = ',', skiprows = 1) \n",
    "del eval3_y[0]\n",
    "eval3_y = eval3_y.as_matrix().T[0]\n",
    "\n"
   ]
  },
  {
   "cell_type": "code",
   "execution_count": 7,
   "metadata": {
    "collapsed": false
   },
   "outputs": [],
   "source": [
    "test = pd.read_csv(\"pubfig_kaggle_eval.txt\", sep = '\\t', header = None, skiprows = 2) \n",
    "test = test.as_matrix()\n",
    "#mean center and feature scale\n",
    "test_X = test.copy()\n",
    "means = np.mean(test_X, axis = 0)\n",
    "test_X = eval1_X-means\n",
    "stds = np.std(test_X, axis = 0)\n",
    "test_X = test_X/stds"
   ]
  },
  {
   "cell_type": "markdown",
   "metadata": {},
   "source": [
    "# Part 1"
   ]
  },
  {
   "cell_type": "markdown",
   "metadata": {},
   "source": [
    "## Naive Bayes Classifier"
   ]
  },
  {
   "cell_type": "code",
   "execution_count": 6,
   "metadata": {
    "collapsed": false
   },
   "outputs": [
    {
     "name": "stdout",
     "output_type": "stream",
     "text": [
      "Training Accuracy 0.5262\n"
     ]
    }
   ],
   "source": [
    "#Naive Bayes Classifier on Train Data\n",
    "nb_clf = sklearn.naive_bayes.GaussianNB()\n",
    "train_decisions = nb_clf.fit(two_attributes, y).predict(X)\n",
    "accr_vector = train_decisions == y\n",
    "train_accr = accr_vector.sum()/(len(accr_vector))\n",
    "print('Training Accuracy', train_accr)\n"
   ]
  },
  {
   "cell_type": "code",
   "execution_count": 7,
   "metadata": {
    "collapsed": false
   },
   "outputs": [
    {
     "name": "stdout",
     "output_type": "stream",
     "text": [
      "Evaluation 1 Accuracy 0.5213\n",
      "Evaluation 2 Accuracy 0.5236\n",
      "Evaluation 3 Accuracy 0.52305\n"
     ]
    }
   ],
   "source": [
    "# Evaluation Validation Sets\n",
    "train_decisions = nb_clf.predict(eval1_X)\n",
    "accr_vector = train_decisions == eval1_y\n",
    "train_accr = accr_vector.sum()/(len(accr_vector))\n",
    "print('Evaluation 1 Accuracy', train_accr)\n",
    "\n",
    "train_decisions = nb_clf.predict(eval2_X)\n",
    "accr_vector = train_decisions == eval2_y\n",
    "train_accr = accr_vector.sum()/(len(accr_vector))\n",
    "print('Evaluation 2 Accuracy', train_accr)\n",
    "\n",
    "train_decisions = nb_clf.predict(eval3_X)\n",
    "accr_vector = train_decisions == eval3_y\n",
    "train_accr = accr_vector.sum()/(len(accr_vector))\n",
    "print('Evaluation 3 Accuracy', train_accr)"
   ]
  },
  {
   "cell_type": "code",
   "execution_count": 8,
   "metadata": {
    "collapsed": true
   },
   "outputs": [],
   "source": [
    "# Evaluation on test set\n",
    "decisions = nb_clf.predict(test_X)\n",
    "out_df = pd.DataFrame({'Id':range(len(decisions)), 'Prediction':decisions})\n",
    "out_df.to_csv(\"evaluation_1_solutions_nb.txt\", index = False, sep = ',')"
   ]
  },
  {
   "cell_type": "markdown",
   "metadata": {},
   "source": [
    "## Linear Support Vector Machines"
   ]
  },
  {
   "cell_type": "code",
   "execution_count": 9,
   "metadata": {
    "collapsed": false
   },
   "outputs": [
    {
     "name": "stdout",
     "output_type": "stream",
     "text": [
      "Training Accuracy 0.51754 with C =  1.0\n",
      "Evaluation 1 Accuracy 0.50285 with C = 1.0\n",
      "Evaluation 2 Accuracy 0.5046 with C = 1.0\n",
      "\n",
      "Training Accuracy 0.5029 with C =  10.0\n",
      "Evaluation 1 Accuracy 0.50455 with C = 10.0\n",
      "Evaluation 2 Accuracy 0.50215 with C = 10.0\n",
      "\n",
      "Training Accuracy 0.50182 with C =  50.0\n",
      "Evaluation 1 Accuracy 0.5043 with C = 50.0\n",
      "Evaluation 2 Accuracy 0.50285 with C = 50.0\n",
      "\n",
      "Training Accuracy 0.50206 with C =  100.0\n",
      "Evaluation 1 Accuracy 0.5045 with C = 100.0\n",
      "Evaluation 2 Accuracy 0.5031 with C = 100.0\n",
      "\n"
     ]
    }
   ],
   "source": [
    "# Linear support vector machine on training data and also tune parameter C on evaluation sets\n",
    "#This takes much too long with grid search or randomized grid search.\n",
    "Clist = [1.0, 10.0, 50.0, 100.0]\n",
    "#X_train, X_test, y_train, y_test = sklearn.cross_validation.train_test_split(X, y, test_size = 0.20)\n",
    "for new_C in Clist:\n",
    "    svm_clf = sklearn.svm.LinearSVC(C = new_C, random_state =2)\n",
    "    train_decisions = svm_clf.fit(X, y).predict(X)\n",
    "    test1_decisions = svm_clf.predict(eval1_X)\n",
    "    test2_decisions = svm_clf.predict(eval2_X)\n",
    "    train_accuracy = (train_decisions == y).sum()/len(y)\n",
    "    test1_accuracy = ((test1_decisions == eval1_y).sum()/len(eval1_y))\n",
    "    test2_accuracy = ((test2_decisions == eval2_y).sum()/len(eval2_y))\n",
    "    print(\"Training Accuracy\", train_accuracy, \"with C = \", new_C)\n",
    "    print(\"Evaluation 1 Accuracy\", test1_accuracy, \"with C =\", new_C)\n",
    "    print(\"Evaluation 2 Accuracy\", test2_accuracy, \"with C =\", new_C)\n",
    "    print()\n",
    "    "
   ]
  },
  {
   "cell_type": "code",
   "execution_count": 10,
   "metadata": {
    "collapsed": false
   },
   "outputs": [
    {
     "name": "stdout",
     "output_type": "stream",
     "text": [
      "Evaluation 3 Accuracy 0.5026 with C = 1.0\n"
     ]
    }
   ],
   "source": [
    "# Predict on evaluation set 3\n",
    "svm_clf = sklearn.svm.LinearSVC(C = 1.0, random_state = 2)\n",
    "svm_clf.fit(X, y)\n",
    "test3_decisions = svm_clf.predict(eval3_X)\n",
    "test3_accuracy = ((test3_decisions == eval3_y).sum()/len(eval3_y))\n",
    "print(\"Evaluation 3 Accuracy\", test3_accuracy, \"with C =\", 1.0)"
   ]
  },
  {
   "cell_type": "code",
   "execution_count": 11,
   "metadata": {
    "collapsed": true
   },
   "outputs": [],
   "source": [
    "#Predict on the test set\n",
    "decisions = svm_clf.predict(test_X)\n",
    "out_df = pd.DataFrame({'Id':range(len(decisions)), 'Prediction':decisions})\n",
    "out_df.to_csv(\"evaluation_1_solutions_svm.txt\", index = False, sep = ',')"
   ]
  },
  {
   "cell_type": "markdown",
   "metadata": {},
   "source": [
    "## Random Forest"
   ]
  },
  {
   "cell_type": "code",
   "execution_count": 12,
   "metadata": {
    "collapsed": false
   },
   "outputs": [
    {
     "name": "stdout",
     "output_type": "stream",
     "text": [
      "Mean validation score: 0.764 (std: 0.002)\n",
      "Parameters: {'min_samples_leaf': 4, 'max_features': 10, 'min_samples_split': 9}\n",
      "\n",
      "Mean validation score: 0.760 (std: 0.004)\n",
      "Parameters: {'min_samples_leaf': 1, 'max_features': 9, 'min_samples_split': 9}\n",
      "\n",
      "Mean validation score: 0.764 (std: 0.002)\n",
      "Parameters: {'min_samples_leaf': 2, 'max_features': 11, 'min_samples_split': 5}\n",
      "\n",
      "Mean validation score: 0.762 (std: 0.001)\n",
      "Parameters: {'min_samples_leaf': 4, 'max_features': 8, 'min_samples_split': 5}\n",
      "\n",
      "Mean validation score: 0.762 (std: 0.002)\n",
      "Parameters: {'min_samples_leaf': 7, 'max_features': 8, 'min_samples_split': 8}\n",
      "\n",
      "Mean validation score: 0.761 (std: 0.004)\n",
      "Parameters: {'min_samples_leaf': 2, 'max_features': 7, 'min_samples_split': 6}\n",
      "\n",
      "Mean validation score: 0.726 (std: 0.005)\n",
      "Parameters: {'min_samples_leaf': 4, 'max_features': 1, 'min_samples_split': 7}\n",
      "\n",
      "Mean validation score: 0.759 (std: 0.002)\n",
      "Parameters: {'min_samples_leaf': 7, 'max_features': 6, 'min_samples_split': 7}\n",
      "\n",
      "Mean validation score: 0.761 (std: 0.001)\n",
      "Parameters: {'min_samples_leaf': 9, 'max_features': 9, 'min_samples_split': 2}\n",
      "\n",
      "Mean validation score: 0.752 (std: 0.004)\n",
      "Parameters: {'min_samples_leaf': 3, 'max_features': 4, 'min_samples_split': 3}\n",
      "\n",
      "Mean validation score: 0.765 (std: 0.003)\n",
      "Parameters: {'min_samples_leaf': 10, 'max_features': 11, 'min_samples_split': 10}\n",
      "\n",
      "Mean validation score: 0.766 (std: 0.003)\n",
      "Parameters: {'min_samples_leaf': 4, 'max_features': 11, 'min_samples_split': 7}\n",
      "\n",
      "Mean validation score: 0.747 (std: 0.004)\n",
      "Parameters: {'min_samples_leaf': 1, 'max_features': 4, 'min_samples_split': 1}\n",
      "\n",
      "Mean validation score: 0.762 (std: 0.002)\n",
      "Parameters: {'min_samples_leaf': 5, 'max_features': 8, 'min_samples_split': 6}\n",
      "\n",
      "Mean validation score: 0.765 (std: 0.002)\n",
      "Parameters: {'min_samples_leaf': 5, 'max_features': 11, 'min_samples_split': 2}\n",
      "\n",
      "Mean validation score: 0.751 (std: 0.003)\n",
      "Parameters: {'min_samples_leaf': 4, 'max_features': 3, 'min_samples_split': 4}\n",
      "\n",
      "Mean validation score: 0.727 (std: 0.002)\n",
      "Parameters: {'min_samples_leaf': 4, 'max_features': 1, 'min_samples_split': 9}\n",
      "\n",
      "Mean validation score: 0.761 (std: 0.002)\n",
      "Parameters: {'min_samples_leaf': 3, 'max_features': 7, 'min_samples_split': 7}\n",
      "\n",
      "Mean validation score: 0.761 (std: 0.003)\n",
      "Parameters: {'min_samples_leaf': 1, 'max_features': 9, 'min_samples_split': 4}\n",
      "\n",
      "Mean validation score: 0.745 (std: 0.002)\n",
      "Parameters: {'min_samples_leaf': 10, 'max_features': 2, 'min_samples_split': 4}\n",
      "\n"
     ]
    }
   ],
   "source": [
    "#Random Forest\n",
    "parameters = {'max_features': st.randint(1,12), \n",
    "              \"min_samples_split\": st.randint(1, 11), \n",
    "              \"min_samples_leaf\": st.randint(1, 11)}\n",
    "\n",
    "clf = sklearn.ensemble.RandomForestClassifier(n_estimators = 20)\n",
    "rf_clf = sklearn.grid_search.RandomizedSearchCV(clf, param_distributions = parameters, n_iter = 20)\n",
    "rf_clf.fit(X, y)\n",
    "grid_scores = rf_clf.grid_scores_\n",
    "\n",
    "for i, score in enumerate(grid_scores):\n",
    "    print(\"Mean validation score: {0:.3f} (std: {1:.3f})\".format(\n",
    "        score.mean_validation_score,\n",
    "        np.std(score.cv_validation_scores)))\n",
    "    print(\"Parameters: {0}\".format(score.parameters))\n",
    "    print(\"\")\n",
    "        "
   ]
  },
  {
   "cell_type": "code",
   "execution_count": 13,
   "metadata": {
    "collapsed": false
   },
   "outputs": [
    {
     "name": "stdout",
     "output_type": "stream",
     "text": [
      "Train Accuracy 0.715\n",
      "Train Accuracy 0.71925\n",
      "Train Accuracy 0.7195\n"
     ]
    }
   ],
   "source": [
    "# Predict on evaluation set\n",
    "decisions = rf_clf.predict(eval1_X)\n",
    "accuracy = ((decisions == eval1_y).sum()/len(eval1_y))\n",
    "print(\"Train Accuracy\", accuracy)\n",
    "\n",
    "decisions = rf_clf.predict(eval2_X)\n",
    "accuracy = ((decisions == eval2_y).sum()/len(eval2_y))\n",
    "print(\"Train Accuracy\", accuracy)\n",
    "\n",
    "decisions = rf_clf.predict(eval3_X)\n",
    "accuracy = ((decisions == eval3_y).sum()/len(eval3_y))\n",
    "print(\"Train Accuracy\", accuracy)"
   ]
  },
  {
   "cell_type": "code",
   "execution_count": 14,
   "metadata": {
    "collapsed": true
   },
   "outputs": [],
   "source": [
    "decisions = rf_clf.predict(test_X)\n",
    "out_df = pd.DataFrame({'Id':range(len(decisions)), 'Prediction':decisions})\n",
    "out_df.to_csv(\"evaluation_1_solutions_rf.txt\", index = False, sep = ',')"
   ]
  },
  {
   "cell_type": "markdown",
   "metadata": {},
   "source": [
    "# Part 2"
   ]
  },
  {
   "cell_type": "code",
   "execution_count": 15,
   "metadata": {
    "collapsed": false
   },
   "outputs": [],
   "source": [
    "#read data from txt file\n",
    "pubfig_attributes = pd.read_csv(\"pubfig_attributes.txt\", sep = '\\t', skiprows = 2, header = None, escapechar = '#')\n",
    "names = pubfig_attributes[0]\n",
    "del pubfig_attributes[0]\n",
    "del pubfig_attributes[1]\n",
    "pubfig_attributes = pubfig_attributes.astype(float).as_matrix()\n"
   ]
  },
  {
   "cell_type": "markdown",
   "metadata": {},
   "source": [
    "## Nearest Neighbor Matching"
   ]
  },
  {
   "cell_type": "code",
   "execution_count": 16,
   "metadata": {
    "collapsed": false
   },
   "outputs": [
    {
     "name": "stdout",
     "output_type": "stream",
     "text": [
      "Training Accuracy 1.0\n"
     ]
    }
   ],
   "source": [
    "#training set test\n",
    "#split data into the two faces\n",
    "first_faces = two_attributes[:,0:73]\n",
    "second_faces = two_attributes[:,73:146]\n",
    "\n",
    "nn_clf = sklearn.neighbors.KNeighborsClassifier(n_neighbors = 1) #build NN model \n",
    "nn_clf.fit(pubfig_attributes, names)\n",
    "first_names = nn_clf.predict(first_faces)\n",
    "second_names = nn_clf.predict(second_faces)\n",
    "decisions = first_names == second_names\n",
    "print(\"Training Accuracy\", (decisions == y).sum()/len(decisions))\n"
   ]
  },
  {
   "cell_type": "code",
   "execution_count": 17,
   "metadata": {
    "collapsed": false
   },
   "outputs": [
    {
     "name": "stdout",
     "output_type": "stream",
     "text": [
      "Evaluation 1 Accuracy 1.0\n",
      "Evaluation 2 Accuracy 1.0\n",
      "Evaluation 3 Accuracy 1.0\n"
     ]
    }
   ],
   "source": [
    "#evaluation set tests\n",
    "first_faces = eval1[:,0:73]\n",
    "second_faces = eval1[:,73:146]\n",
    "\n",
    "first_names = nn_clf.predict(first_faces)\n",
    "second_names = nn_clf.predict(second_faces)\n",
    "decisions = first_names == second_names\n",
    "print(\"Evaluation 1 Accuracy\", (decisions == eval1_y).sum()/len(decisions))\n",
    "\n",
    "first_faces = eval2[:,0:73]\n",
    "second_faces = eval2[:,73:146]\n",
    "\n",
    "first_names = nn_clf.predict(first_faces)\n",
    "second_names = nn_clf.predict(second_faces)\n",
    "decisions = first_names == second_names\n",
    "print(\"Evaluation 2 Accuracy\", (decisions == eval2_y).sum()/len(decisions))\n",
    "\n",
    "first_faces = eval3[:,0:73]\n",
    "second_faces = eval3[:,73:146]\n",
    "\n",
    "first_names = nn_clf.predict(first_faces)\n",
    "second_names = nn_clf.predict(second_faces)\n",
    "decisions = first_names == second_names\n",
    "print(\"Evaluation 3 Accuracy\", (decisions == eval3_y).sum()/len(decisions))\n"
   ]
  },
  {
   "cell_type": "code",
   "execution_count": 18,
   "metadata": {
    "collapsed": false
   },
   "outputs": [],
   "source": [
    "#evaluation on the test set\n",
    "first_faces = test[:,0:73]\n",
    "second_faces = test[:,73:146]\n",
    "first_names = nn_clf.predict(first_faces)\n",
    "second_names = nn_clf.predict(second_faces)\n",
    "decisions = np.array(first_names == second_names, dtype = int)\n",
    "out_df = pd.DataFrame({'Id':range(len(decisions)), 'Prediction':decisions})\n",
    "out_df.to_csv(\"evaluation_2_solutions.txt\", index = False, sep = ',')"
   ]
  },
  {
   "cell_type": "markdown",
   "metadata": {},
   "source": [
    "# Part 3\n",
    "\n"
   ]
  },
  {
   "cell_type": "markdown",
   "metadata": {},
   "source": [
    "# Support Vector Machine with RBF Kernel"
   ]
  },
  {
   "cell_type": "code",
   "execution_count": 8,
   "metadata": {
    "collapsed": false
   },
   "outputs": [
    {
     "data": {
      "text/plain": [
       "<matplotlib.text.Text at 0x114c7a588>"
      ]
     },
     "execution_count": 8,
     "metadata": {},
     "output_type": "execute_result"
    },
    {
     "data": {
      "image/png": "[encoded data removed]",
      "text/plain": [
       "<matplotlib.figure.Figure at 0x114c52978>"
      ]
     },
     "metadata": {},
     "output_type": "display_data"
    }
   ],
   "source": [
    "#Reduce data to principle components in order to speed up kernel time\n",
    "pca = sklearn.decomposition.PCA()\n",
    "pca.fit(X, y)\n",
    "plt.plot(range(1, 147), pca.explained_variance_ratio_)\n",
    "plt.title(\"Principle Component Anaylsis\")\n",
    "plt.ylabel(\"Explained Variance Ratio\")\n",
    "plt.xlabel(\"Components\")"
   ]
  },
  {
   "cell_type": "code",
   "execution_count": 22,
   "metadata": {
    "collapsed": false
   },
   "outputs": [],
   "source": [
    "pca = sklearn.decomposition.PCA(n_components = 40)\n",
    "X_new = pca.fit_transform(X, y)\n",
    "eval1_X_new = pca.transform(eval1_X)\n",
    "eval2_X_new = pca.transform(eval2_X)\n",
    "eval3_X_new = pca.transform(eval3_X)\n",
    "test_X_new = pca.transform(test_X)"
   ]
  },
  {
   "cell_type": "code",
   "execution_count": 23,
   "metadata": {
    "collapsed": false
   },
   "outputs": [
    {
     "name": "stdout",
     "output_type": "stream",
     "text": [
      "Training Accuracy 0.957833333333\n",
      "Validation Accuracy 0.8388\n",
      "Evaluation 1 Accuracy 0.7583\n",
      "Evaluation 2 Accuracy 0.7576\n",
      "\n"
     ]
    }
   ],
   "source": [
    "# Linear support vector machine on training data and also tune parameter C on evaluation sets\n",
    "#This takes much too long with grid search or randomized grid search.\n",
    "\n",
    "#randomly 60% sample of training examples to speed up SVM training\n",
    "X_train, X_test, y_train, y_test = sklearn.cross_validation.train_test_split(X_new, y, test_size = 0.40)\n",
    "svm_clf = sklearn.svm.SVC(C = 1.0)\n",
    "train_decisions = svm_clf.fit(X_train, y_train).predict(X_train)\n",
    "test_decisions = svm_clf.predict(X_test)\n",
    "test1_decisions = svm_clf.predict(eval1_X_new)\n",
    "test2_decisions = svm_clf.predict(eval2_X_new)\n",
    "train_accuracy = (train_decisions == y_train).sum()/len(y_train)\n",
    "test_accuracy = ((test_decisions == y_test).sum()/len(y_test))\n",
    "test1_accuracy = ((test1_decisions == eval1_y).sum()/len(eval1_y))\n",
    "test2_accuracy = ((test2_decisions == eval2_y).sum()/len(eval2_y))\n",
    "print(\"Training Accuracy\", train_accuracy)\n",
    "print(\"Validation Accuracy\", test_accuracy)\n",
    "print(\"Evaluation 1 Accuracy\", test1_accuracy)\n",
    "print(\"Evaluation 2 Accuracy\", test2_accuracy)\n",
    "print()"
   ]
  },
  {
   "cell_type": "code",
   "execution_count": 24,
   "metadata": {
    "collapsed": false
   },
   "outputs": [
    {
     "name": "stdout",
     "output_type": "stream",
     "text": [
      "Evaluation 3 Accuracy 0.7548\n"
     ]
    }
   ],
   "source": [
    "test3_decisions = svm_clf.predict(eval3_X_new)\n",
    "test3_accuracy = ((test3_decisions == eval3_y).sum()/len(eval3_y))\n",
    "print(\"Evaluation 3 Accuracy\", test3_accuracy)"
   ]
  },
  {
   "cell_type": "code",
   "execution_count": 25,
   "metadata": {
    "collapsed": true
   },
   "outputs": [],
   "source": [
    "decisions = svm_clf.predict(test_X_new)\n",
    "out_df = pd.DataFrame({'Id':range(len(decisions)), 'Prediction':decisions})\n",
    "out_df.to_csv(\"evaluation_3_solutions.txt\", index = False, sep = ',')"
   ]
  },
  {
   "cell_type": "code",
   "execution_count": null,
   "metadata": {
    "collapsed": true
   },
   "outputs": [],
   "source": []
  }
 ],
 "metadata": {
  "kernelspec": {
   "display_name": "Python 3",
   "language": "python",
   "name": "python3"
  },
  "language_info": {
   "codemirror_mode": {
    "name": "ipython",
    "version": 3
   },
   "file_extension": ".py",
   "mimetype": "text/x-python",
   "name": "python",
   "nbconvert_exporter": "python",
   "pygments_lexer": "ipython3",
   "version": "3.5.1"
  }
 },
 "nbformat": 4,
 "nbformat_minor": 0
}
