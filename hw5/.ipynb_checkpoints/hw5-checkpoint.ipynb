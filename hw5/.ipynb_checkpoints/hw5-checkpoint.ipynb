{
 "cells": [
  {
   "cell_type": "code",
   "execution_count": 2,
   "metadata": {
    "collapsed": true
   },
   "outputs": [],
   "source": [
    "import matplotlib.pyplot as plt\n",
    "import numpy as np\n",
    "from PIL import Image"
   ]
  },
  {
   "cell_type": "code",
   "execution_count": 214,
   "metadata": {
    "collapsed": false
   },
   "outputs": [],
   "source": [
    "def initializeMultinomialClusters(X, T = 30):\n",
    "    '''\n",
    "    X = dataset of interest\n",
    "    T = number of topics\n",
    "    '''\n",
    "    D = X.shape[0] # number of documents\n",
    "    W = X.shape[1] # number of features\n",
    "    \n",
    "    #initialize priors\n",
    "    pi = np.ones(shape = T)/T\n",
    "    \n",
    "    #initialize multinomial parameters/cluster centers\n",
    "    P = np.zeros(shape = (W, T)) # multinomial parameters, rows = features, cols = topics\n",
    "    init_centers = np.random.randint(0, D-1, T)\n",
    "    ones = np.ones(shape = W)\n",
    "    for i, idx in enumerate(init_centers):\n",
    "        P[:, i] = (X[idx, :] + ones)/(np.sum(X[idx, :]) + W*ones)\n",
    "        \n",
    "    return pi, P\n",
    "\n",
    "def multinomialEStep(X, P, pi, W):\n",
    "    T = P.shape[1]\n",
    "    W = np.dot(X, np.log(P))\n",
    "    W = np.exp(W)\n",
    "    for j in range(T):\n",
    "        W[:, j] = W[:, j]/np.sum(W[:,j])\n",
    "        \n",
    "def multinomialMStep(X, P, pi, W):\n",
    "    N = X.shape[0]\n",
    "    pi = np.sum(W, axis = 0)/N\n",
    "    P = np.dot(X.T, W)\n",
    "    colsum = np.sum(P, axis = 0)\n",
    "    P = P/colsum\n",
    "    \n",
    "def multinomialEM(X, T = 30, niters = 100):\n",
    "    N = X.shape[0]\n",
    "    d = X.shape[1]\n",
    "    \n",
    "    #intialize the clusters\n",
    "    pi, P = initializeMultinomialClusters(X, T)\n",
    "    W = np.ones(shape = (N, T))\n",
    "    \n",
    "    #run E steps and M steps iteratively\n",
    "    for i in range(niters):\n",
    "        gaussEStep(X, P, pi, W)\n",
    "        gaussMStep(X, P, pi, W)\n",
    "        \n",
    "    classes = np.argmax(W, axis = 1)\n",
    "    return classes"
   ]
  },
  {
   "cell_type": "code",
   "execution_count": 146,
   "metadata": {
    "collapsed": false
   },
   "outputs": [],
   "source": [
    "#import data and word list\n",
    "#import dataset store as nd array\n",
    "with open('docword.nips.txt') as nips_file:\n",
    "    nips_strlist = nips_file.read().split('\\n')\n",
    "    \n",
    "D = int(nips_strlist[0]) #number of documents\n",
    "W = int(nips_strlist[1]) #number of words in the vocabulary\n",
    "N = int(nips_strlist[2]) #number of total words in dataset\n",
    "nips_data = np.zeros(shape = (D,W))\n",
    "del nips_strlist[0]\n",
    "del nips_strlist[0]\n",
    "del nips_strlist[0]\n",
    "del nips_strlist[-1]\n",
    "\n",
    "for row in nips_strlist:\n",
    "    row_list = row.split(' ')\n",
    "    i = int(row_list[0])-1 #0-indexing\n",
    "    j = int(row_list[1])-1\n",
    "    k = int(row_list[2])\n",
    "    nips_data[i][j] = k\n",
    "\n",
    "#import wordlist\n",
    "with open('vocab.nips.txt') as nipswords_file:\n",
    "    wordlist = nipswords_file.read().split('\\n')"
   ]
  },
  {
   "cell_type": "code",
   "execution_count": 213,
   "metadata": {
    "collapsed": false
   },
   "outputs": [],
   "source": [
    "classes  = multinomialEM(nips_data, niters = 25)"
   ]
  },
  {
   "cell_type": "code",
   "execution_count": 215,
   "metadata": {
    "collapsed": false
   },
   "outputs": [
    {
     "name": "stdout",
     "output_type": "stream",
     "text": [
      "[ 0  0  0 ...,  0  0 22]\n"
     ]
    }
   ],
   "source": [
    "print(classes)"
   ]
  },
  {
   "cell_type": "markdown",
   "metadata": {
    "collapsed": false
   },
   "source": [
    "## Picture Segmentation"
   ]
  },
  {
   "cell_type": "code",
   "execution_count": 200,
   "metadata": {
    "collapsed": false
   },
   "outputs": [],
   "source": [
    "segments = [10, 20, 50]\n",
    "    \n",
    "def intializeClusters(X, C):\n",
    "    d = X.shape[1]\n",
    "    N = X.shape[0]\n",
    "    pi = np.ones(shape = C)/C\n",
    "    M = np.zeros(shape = (d, C))\n",
    "    items = np.random.randint(0, N, C)\n",
    "    k = 0\n",
    "    for i in items:\n",
    "        M[:, k] = X[i]\n",
    "        k += 1\n",
    "    return pi, M\n",
    "\n",
    "def gauss(X, mu):\n",
    "    distances = X - mu\n",
    "    return np.exp(-0.5*np.linalg.norm(distances, axis = 1)**2)\n",
    "\n",
    "# perform E step with mixture of Gaussians model\n",
    "def gaussEStep(X, M, pi, W):\n",
    "    '''\n",
    "    X = flattened dataset\n",
    "    M = mean centers\n",
    "    pi = priors\n",
    "    W = soft weights\n",
    "    '''\n",
    "    C = M.shape[1] #number of clusters\n",
    "    # calculate unnormalized weights\n",
    "    for j in range(C):\n",
    "        W[:, j] = pi[j]*gauss(X, M[:, j])\n",
    "        \n",
    "        #normalize W by columns\n",
    "        W[:, j] = W[:, j]/np.sum(W[:, j])\n",
    "\n",
    "# perform M step with mixture of Gaussians model\n",
    "def gaussMStep(X, M, pi, W):\n",
    "    C = M.shape[1]\n",
    "    M = np.dot(X.T, W)\n",
    "    clusterWeight = np.sum(W, axis = 0)\n",
    "    M = M / clusterWeight\n",
    "    pi = clusterWeight / C\n",
    "    \n",
    "def gaussEM(X, C, niters = 100):\n",
    "    N = X.shape[0]\n",
    "    d = X.shape[1]\n",
    "    \n",
    "    result = X.copy()\n",
    "    \n",
    "    #intialize the clusters\n",
    "    pi, M = intializeClusters(X, C)\n",
    "    W = np.ones(shape = (N, C))\n",
    "    \n",
    "    #run E steps and M steps iteratively\n",
    "    for i in range(niters):\n",
    "        gaussEStep(X, M, pi, W)\n",
    "        gaussMStep(X, M, pi, W)\n",
    "        \n",
    "    classes = np.argmax(W, axis = 1)\n",
    "    for i in range(N):\n",
    "        result[i,:] = M[:, classes[i]]\n",
    "    \n",
    "    return classes, result"
   ]
  },
  {
   "cell_type": "code",
   "execution_count": 206,
   "metadata": {
    "collapsed": false
   },
   "outputs": [],
   "source": [
    "im = Image.open(\"test_images/balloons.jpg\")\n",
    "nrows = im.size[1]\n",
    "ncols = im.size[0]\n",
    "N = rowdim*coldim\n",
    "d = 3 #RGB => 3 features\n",
    "X = np.array(im.getdata())"
   ]
  },
  {
   "cell_type": "code",
   "execution_count": 208,
   "metadata": {
    "collapsed": false
   },
   "outputs": [],
   "source": [
    "C = segments[0] \n",
    "classes, result = gaussEM(X, C, niters = 100)"
   ]
  },
  {
   "cell_type": "code",
   "execution_count": 209,
   "metadata": {
    "collapsed": false
   },
   "outputs": [
    {
     "ename": "IndexError",
     "evalue": "image index out of range",
     "output_type": "error",
     "traceback": [
      "\u001b[0;31m---------------------------------------------------------------------------\u001b[0m",
      "\u001b[0;31mIndexError\u001b[0m                                Traceback (most recent call last)",
      "\u001b[0;32m<ipython-input-209-dbe9a90d7a38>\u001b[0m in \u001b[0;36m<module>\u001b[0;34m()\u001b[0m\n\u001b[1;32m      3\u001b[0m \u001b[0;32mfor\u001b[0m \u001b[0mi\u001b[0m \u001b[0;32min\u001b[0m \u001b[0mrange\u001b[0m\u001b[0;34m(\u001b[0m\u001b[0mnrows\u001b[0m\u001b[0;34m)\u001b[0m\u001b[0;34m:\u001b[0m\u001b[0;34m\u001b[0m\u001b[0m\n\u001b[1;32m      4\u001b[0m     \u001b[0;32mfor\u001b[0m \u001b[0mj\u001b[0m \u001b[0;32min\u001b[0m \u001b[0mrange\u001b[0m\u001b[0;34m(\u001b[0m\u001b[0mncols\u001b[0m\u001b[0;34m)\u001b[0m\u001b[0;34m:\u001b[0m\u001b[0;34m\u001b[0m\u001b[0m\n\u001b[0;32m----> 5\u001b[0;31m         \u001b[0mout\u001b[0m\u001b[0;34m.\u001b[0m\u001b[0mputpixel\u001b[0m\u001b[0;34m(\u001b[0m\u001b[0;34m(\u001b[0m\u001b[0mj\u001b[0m\u001b[0;34m,\u001b[0m \u001b[0mi\u001b[0m\u001b[0;34m)\u001b[0m\u001b[0;34m,\u001b[0m \u001b[0mtuple\u001b[0m\u001b[0;34m(\u001b[0m\u001b[0mresult\u001b[0m\u001b[0;34m[\u001b[0m\u001b[0mi\u001b[0m\u001b[0;34m*\u001b[0m\u001b[0mncols\u001b[0m\u001b[0;34m+\u001b[0m\u001b[0mj\u001b[0m\u001b[0;34m]\u001b[0m\u001b[0;34m)\u001b[0m\u001b[0;34m)\u001b[0m\u001b[0;34m\u001b[0m\u001b[0m\n\u001b[0m\u001b[1;32m      6\u001b[0m \u001b[0mout\u001b[0m\u001b[0;34m.\u001b[0m\u001b[0msave\u001b[0m\u001b[0;34m(\u001b[0m\u001b[0;34m\"output.jpg\"\u001b[0m\u001b[0;34m)\u001b[0m\u001b[0;34m\u001b[0m\u001b[0m\n",
      "\u001b[0;32m/Users/ryleyhiga/anaconda/lib/python3.5/site-packages/PIL/Image.py\u001b[0m in \u001b[0;36mputpixel\u001b[0;34m(self, xy, value)\u001b[0m\n\u001b[1;32m   1503\u001b[0m         \u001b[0;32mif\u001b[0m \u001b[0mself\u001b[0m\u001b[0;34m.\u001b[0m\u001b[0mpyaccess\u001b[0m\u001b[0;34m:\u001b[0m\u001b[0;34m\u001b[0m\u001b[0m\n\u001b[1;32m   1504\u001b[0m             \u001b[0;32mreturn\u001b[0m \u001b[0mself\u001b[0m\u001b[0;34m.\u001b[0m\u001b[0mpyaccess\u001b[0m\u001b[0;34m.\u001b[0m\u001b[0mputpixel\u001b[0m\u001b[0;34m(\u001b[0m\u001b[0mxy\u001b[0m\u001b[0;34m,\u001b[0m \u001b[0mvalue\u001b[0m\u001b[0;34m)\u001b[0m\u001b[0;34m\u001b[0m\u001b[0m\n\u001b[0;32m-> 1505\u001b[0;31m         \u001b[0;32mreturn\u001b[0m \u001b[0mself\u001b[0m\u001b[0;34m.\u001b[0m\u001b[0mim\u001b[0m\u001b[0;34m.\u001b[0m\u001b[0mputpixel\u001b[0m\u001b[0;34m(\u001b[0m\u001b[0mxy\u001b[0m\u001b[0;34m,\u001b[0m \u001b[0mvalue\u001b[0m\u001b[0;34m)\u001b[0m\u001b[0;34m\u001b[0m\u001b[0m\n\u001b[0m\u001b[1;32m   1506\u001b[0m \u001b[0;34m\u001b[0m\u001b[0m\n\u001b[1;32m   1507\u001b[0m     \u001b[0;32mdef\u001b[0m \u001b[0mresize\u001b[0m\u001b[0;34m(\u001b[0m\u001b[0mself\u001b[0m\u001b[0;34m,\u001b[0m \u001b[0msize\u001b[0m\u001b[0;34m,\u001b[0m \u001b[0mresample\u001b[0m\u001b[0;34m=\u001b[0m\u001b[0mNEAREST\u001b[0m\u001b[0;34m)\u001b[0m\u001b[0;34m:\u001b[0m\u001b[0;34m\u001b[0m\u001b[0m\n",
      "\u001b[0;31mIndexError\u001b[0m: image index out of range"
     ]
    }
   ],
   "source": [
    "out = Image.new(\"RGB\", (nrows, ncols))\n",
    "outpix = out.load()\n",
    "for i in range(nrows):\n",
    "    for j in range(ncols):\n",
    "        out.putpixel((j, i), tuple(result[i*ncols+j]))\n",
    "out.save(\"output.jpg\")"
   ]
  },
  {
   "cell_type": "code",
   "execution_count": 211,
   "metadata": {
    "collapsed": false
   },
   "outputs": [
    {
     "name": "stdout",
     "output_type": "stream",
     "text": [
      "[[1 2 0]\n",
      " [4 5 6]]\n",
      "[5 7 6]\n",
      "[  0.  54.]\n"
     ]
    }
   ],
   "source": [
    "a = np.array([(1,2,0),(4,5,6)])\n",
    "print(a)\n",
    "print(a.sum(axis = 0))\n",
    "distances = np.linalg.norm(a - np.array([1,2,0]), axis = 1)**2\n",
    "print(distances)"
   ]
  },
  {
   "cell_type": "code",
   "execution_count": null,
   "metadata": {
    "collapsed": true
   },
   "outputs": [],
   "source": []
  }
 ],
 "metadata": {
  "kernelspec": {
   "display_name": "Python 3",
   "language": "python",
   "name": "python3"
  },
  "language_info": {
   "codemirror_mode": {
    "name": "ipython",
    "version": 3
   },
   "file_extension": ".py",
   "mimetype": "text/x-python",
   "name": "python",
   "nbconvert_exporter": "python",
   "pygments_lexer": "ipython3",
   "version": "3.5.1"
  }
 },
 "nbformat": 4,
 "nbformat_minor": 0
}
